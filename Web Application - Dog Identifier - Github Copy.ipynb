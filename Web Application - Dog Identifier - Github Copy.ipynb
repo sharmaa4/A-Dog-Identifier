{
 "cells": [
  {
   "cell_type": "code",
   "execution_count": 25,
   "metadata": {},
   "outputs": [
    {
     "name": "stdout",
     "output_type": "stream",
     "text": [
      "Requirement already satisfied: voila in /opt/conda/envs/fastai/lib/python3.8/site-packages (0.2.4)\n",
      "Requirement already satisfied: nbclient<0.6,>=0.4.0 in /opt/conda/envs/fastai/lib/python3.8/site-packages (from voila) (0.5.1)\n",
      "Collecting nbconvert<7,>=6.0.0\n",
      "  Using cached nbconvert-6.0.7-py3-none-any.whl (552 kB)\n",
      "Requirement already satisfied: jupyter-client<7,>=6.1.3 in /opt/conda/envs/fastai/lib/python3.8/site-packages (from voila) (6.1.6)\n",
      "Requirement already satisfied: jupyter-server<2.0.0,>=0.3.0 in /opt/conda/envs/fastai/lib/python3.8/site-packages (from voila) (1.1.3)\n",
      "Requirement already satisfied: nest-asyncio in /opt/conda/envs/fastai/lib/python3.8/site-packages (from nbclient<0.6,>=0.4.0->voila) (1.4.3)\n",
      "Requirement already satisfied: async-generator in /opt/conda/envs/fastai/lib/python3.8/site-packages (from nbclient<0.6,>=0.4.0->voila) (1.10)\n",
      "Requirement already satisfied: nbformat>=5.0 in /opt/conda/envs/fastai/lib/python3.8/site-packages (from nbclient<0.6,>=0.4.0->voila) (5.0.7)\n",
      "Requirement already satisfied: traitlets>=4.2 in /opt/conda/envs/fastai/lib/python3.8/site-packages (from nbclient<0.6,>=0.4.0->voila) (4.3.3)\n",
      "Requirement already satisfied: defusedxml in /opt/conda/envs/fastai/lib/python3.8/site-packages (from nbconvert<7,>=6.0.0->voila) (0.6.0)\n",
      "Requirement already satisfied: jinja2>=2.4 in /opt/conda/envs/fastai/lib/python3.8/site-packages (from nbconvert<7,>=6.0.0->voila) (2.11.2)\n",
      "Requirement already satisfied: mistune<2,>=0.8.1 in /opt/conda/envs/fastai/lib/python3.8/site-packages (from nbconvert<7,>=6.0.0->voila) (0.8.4)\n",
      "Requirement already satisfied: pygments>=2.4.1 in /opt/conda/envs/fastai/lib/python3.8/site-packages (from nbconvert<7,>=6.0.0->voila) (2.6.1)\n",
      "Requirement already satisfied: jupyter-core in /opt/conda/envs/fastai/lib/python3.8/site-packages (from nbconvert<7,>=6.0.0->voila) (4.6.3)\n",
      "Requirement already satisfied: bleach in /opt/conda/envs/fastai/lib/python3.8/site-packages (from nbconvert<7,>=6.0.0->voila) (3.1.5)\n",
      "Requirement already satisfied: entrypoints>=0.2.2 in /opt/conda/envs/fastai/lib/python3.8/site-packages (from nbconvert<7,>=6.0.0->voila) (0.3)\n",
      "Requirement already satisfied: jupyterlab-pygments in /opt/conda/envs/fastai/lib/python3.8/site-packages (from nbconvert<7,>=6.0.0->voila) (0.1.2)\n",
      "Requirement already satisfied: testpath in /opt/conda/envs/fastai/lib/python3.8/site-packages (from nbconvert<7,>=6.0.0->voila) (0.4.4)\n",
      "Requirement already satisfied: pandocfilters>=1.4.1 in /opt/conda/envs/fastai/lib/python3.8/site-packages (from nbconvert<7,>=6.0.0->voila) (1.4.2)\n",
      "Requirement already satisfied: pyzmq>=13 in /opt/conda/envs/fastai/lib/python3.8/site-packages (from jupyter-client<7,>=6.1.3->voila) (19.0.2)\n",
      "Requirement already satisfied: python-dateutil>=2.1 in /opt/conda/envs/fastai/lib/python3.8/site-packages (from jupyter-client<7,>=6.1.3->voila) (2.8.1)\n",
      "Requirement already satisfied: tornado>=4.1 in /opt/conda/envs/fastai/lib/python3.8/site-packages (from jupyter-client<7,>=6.1.3->voila) (6.1)\n",
      "Requirement already satisfied: terminado>=0.8.3 in /opt/conda/envs/fastai/lib/python3.8/site-packages (from jupyter-server<2.0.0,>=0.3.0->voila) (0.8.3)\n",
      "Requirement already satisfied: Send2Trash in /opt/conda/envs/fastai/lib/python3.8/site-packages (from jupyter-server<2.0.0,>=0.3.0->voila) (1.5.0)\n",
      "Requirement already satisfied: prometheus-client in /opt/conda/envs/fastai/lib/python3.8/site-packages (from jupyter-server<2.0.0,>=0.3.0->voila) (0.8.0)\n",
      "Requirement already satisfied: anyio>=2.0.2 in /opt/conda/envs/fastai/lib/python3.8/site-packages (from jupyter-server<2.0.0,>=0.3.0->voila) (2.0.2)\n",
      "Requirement already satisfied: ipython-genutils in /opt/conda/envs/fastai/lib/python3.8/site-packages (from jupyter-server<2.0.0,>=0.3.0->voila) (0.2.0)\n",
      "Requirement already satisfied: jsonschema!=2.5.0,>=2.4 in /opt/conda/envs/fastai/lib/python3.8/site-packages (from nbformat>=5.0->nbclient<0.6,>=0.4.0->voila) (3.2.0)\n",
      "Requirement already satisfied: six in /opt/conda/envs/fastai/lib/python3.8/site-packages (from traitlets>=4.2->nbclient<0.6,>=0.4.0->voila) (1.15.0)\n",
      "Requirement already satisfied: decorator in /opt/conda/envs/fastai/lib/python3.8/site-packages (from traitlets>=4.2->nbclient<0.6,>=0.4.0->voila) (4.4.2)\n",
      "Requirement already satisfied: MarkupSafe>=0.23 in /opt/conda/envs/fastai/lib/python3.8/site-packages (from jinja2>=2.4->nbconvert<7,>=6.0.0->voila) (1.1.1)\n",
      "Requirement already satisfied: webencodings in /opt/conda/envs/fastai/lib/python3.8/site-packages (from bleach->nbconvert<7,>=6.0.0->voila) (0.5.1)\n",
      "Requirement already satisfied: packaging in /opt/conda/envs/fastai/lib/python3.8/site-packages (from bleach->nbconvert<7,>=6.0.0->voila) (20.4)\n",
      "Requirement already satisfied: sniffio>=1.1 in /opt/conda/envs/fastai/lib/python3.8/site-packages (from anyio>=2.0.2->jupyter-server<2.0.0,>=0.3.0->voila) (1.2.0)\n",
      "Requirement already satisfied: idna>=2.8 in /opt/conda/envs/fastai/lib/python3.8/site-packages (from anyio>=2.0.2->jupyter-server<2.0.0,>=0.3.0->voila) (2.10)\n",
      "Requirement already satisfied: pyrsistent>=0.14.0 in /opt/conda/envs/fastai/lib/python3.8/site-packages (from jsonschema!=2.5.0,>=2.4->nbformat>=5.0->nbclient<0.6,>=0.4.0->voila) (0.16.0)\n",
      "Requirement already satisfied: attrs>=17.4.0 in /opt/conda/envs/fastai/lib/python3.8/site-packages (from jsonschema!=2.5.0,>=2.4->nbformat>=5.0->nbclient<0.6,>=0.4.0->voila) (20.1.0)\n",
      "Requirement already satisfied: setuptools in /opt/conda/envs/fastai/lib/python3.8/site-packages (from jsonschema!=2.5.0,>=2.4->nbformat>=5.0->nbclient<0.6,>=0.4.0->voila) (49.6.0.post20200814)\n",
      "Requirement already satisfied: pyparsing>=2.0.2 in /opt/conda/envs/fastai/lib/python3.8/site-packages (from packaging->bleach->nbconvert<7,>=6.0.0->voila) (2.4.7)\n",
      "Installing collected packages: nbconvert\n",
      "  Attempting uninstall: nbconvert\n",
      "    Found existing installation: nbconvert 5.6.1\n",
      "    Uninstalling nbconvert-5.6.1:\n",
      "      Successfully uninstalled nbconvert-5.6.1\n",
      "\u001b[31mERROR: After October 2020 you may experience errors when installing or updating packages. This is because pip will change the way that it resolves dependency conflicts.\n",
      "\n",
      "We recommend you use --use-feature=2020-resolver to test your packages with the new resolver before it becomes the default.\n",
      "\n",
      "nbdev 1.0.18 requires nbconvert<6, but you'll have nbconvert 6.0.7 which is incompatible.\u001b[0m\n",
      "Successfully installed nbconvert-6.0.7\n",
      "Enabling: voila\n",
      "- Writing config: /opt/conda/envs/fastai/etc/jupyter\n",
      "    - Validating...\n",
      "      voila 0.2.4 \u001b[32mOK\u001b[0m\n"
     ]
    }
   ],
   "source": [
    "!pip install voila\n",
    "!jupyter serverextension enable voila --sys-prefix "
   ]
  },
  {
   "cell_type": "code",
   "execution_count": 26,
   "metadata": {},
   "outputs": [
    {
     "name": "stdout",
     "output_type": "stream",
     "text": [
      "\u001b[31mERROR: After October 2020 you may experience errors when installing or updating packages. This is because pip will change the way that it resolves dependency conflicts.\r\n",
      "\r\n",
      "We recommend you use --use-feature=2020-resolver to test your packages with the new resolver before it becomes the default.\r\n",
      "\r\n",
      "voila 0.2.4 requires nbconvert<7,>=6.0.0, but you'll have nbconvert 5.6.1 which is incompatible.\u001b[0m\r\n"
     ]
    }
   ],
   "source": [
    "!pip install -Uqq fastbook"
   ]
  },
  {
   "cell_type": "code",
   "execution_count": 27,
   "metadata": {},
   "outputs": [],
   "source": [
    "import fastbook\n",
    "fastbook.setup_book()"
   ]
  },
  {
   "cell_type": "code",
   "execution_count": 28,
   "metadata": {},
   "outputs": [],
   "source": [
    "from fastbook import *\n",
    "from fastai.vision.widgets import*\n",
    "#path = untar_data(URLs.PETS)/'images'\n",
    "#def is_cat(x): return x[0].isupper()\n",
    "def is_dog(x): return x[0].islower()\n",
    "#dls = ImageDataLoaders.from_name_func(path,get_image_files(path),valid_pct=0.2,seed=42,label_func=is_cat, \n",
    "#                                      item_tfms=Resize(224))\n",
    "#dls = ImageDataLoaders.from_name_func(path,get_image_files(path),valid_pct=0.2,seed=42,label_func=is_dog, \n",
    "#                                      item_tfms=Resize(224))\n",
    "#learn = cnn_learner(dls, resnet34, metrics=error_rate)\n",
    "#learn.fine_tune(1)"
   ]
  },
  {
   "cell_type": "code",
   "execution_count": 29,
   "metadata": {},
   "outputs": [],
   "source": [
    "#uploader = widgets.FileUpload()\n",
    "#uploader"
   ]
  },
  {
   "cell_type": "code",
   "execution_count": 30,
   "metadata": {},
   "outputs": [],
   "source": [
    "#img = PILImage.create(uploader.data[0])\n",
    "#is_cat,_,probs = learn.predict(img)\n",
    "#is_dog,_,probs = learn.predict(img)\n",
    "#learn.predict(img)\n",
    "#print(f\"Is that a cat ? : {is_cat}\")\n",
    "#print(f\"Probability that it's a cat : {probs[1].item():.6f}\")\n",
    "#print(f\"Is that a dog? : {is_dog}\")\n",
    "#print(f\"probablility that it's a dog: {probs[1].item():.6f}\")"
   ]
  },
  {
   "cell_type": "code",
   "execution_count": 31,
   "metadata": {},
   "outputs": [],
   "source": [
    "out_pl = widgets.Output()\n",
    "#out_pl.clear_output()\n",
    "#with out_pl : display(img.to_thumb(128,128))\n",
    "#out_pl"
   ]
  },
  {
   "cell_type": "code",
   "execution_count": 32,
   "metadata": {},
   "outputs": [],
   "source": [
    "#learn.path"
   ]
  },
  {
   "cell_type": "code",
   "execution_count": 33,
   "metadata": {},
   "outputs": [],
   "source": [
    "#learn.path = Path('/notebooks/fastbook')"
   ]
  },
  {
   "cell_type": "code",
   "execution_count": 34,
   "metadata": {},
   "outputs": [],
   "source": [
    "learn_inf = load_learner('./export.pkl')"
   ]
  },
  {
   "cell_type": "code",
   "execution_count": 35,
   "metadata": {},
   "outputs": [],
   "source": [
    "#pred,pred_idx,probs = learn_inf.predict(img)"
   ]
  },
  {
   "cell_type": "code",
   "execution_count": 36,
   "metadata": {},
   "outputs": [],
   "source": [
    "#type(pred),pred_idx,probs\n",
    "#prediction = bool(pred)\n",
    "#type(prediction),pred_idx,probs"
   ]
  },
  {
   "cell_type": "code",
   "execution_count": 37,
   "metadata": {},
   "outputs": [],
   "source": [
    "lbl_pred = widgets.Label()\n",
    "#lbl_pred.value = f'Prediction: {pred} , Probability: {probs[pred_idx]:.4f}'\n",
    "#lbl_pred"
   ]
  },
  {
   "cell_type": "code",
   "execution_count": 38,
   "metadata": {},
   "outputs": [],
   "source": [
    "btn_run = widgets.Button(description='Is it a Dog ?')\n",
    "btn_run\n",
    "btn_reset = widgets.Button(description='Click to reset')\n",
    "btn_reset\n",
    "btn_upload = widgets.FileUpload()"
   ]
  },
  {
   "cell_type": "code",
   "execution_count": 42,
   "metadata": {},
   "outputs": [],
   "source": [
    "def on_click_classify(change):\n",
    "    img = PILImage.create(btn_upload.data[-1])\n",
    "    out_pl.clear_output()\n",
    "    with out_pl : display(img.to_thumb(128,128))\n",
    "    pred,pred_idx,probs = learn_inf.predict(img)\n",
    "\n",
    "    if(probs[pred_idx]>0.99):\n",
    "        \n",
    "        lbl_pred.value = f'Prediction: {pred} , Probability: {probs[pred_idx]:.4f}'\n",
    "        \n",
    "    else:\n",
    "        \n",
    "           lbl_pred.value = f\"Prediction: Can't say\"\n",
    "    \n",
    "\n",
    "def on_click_reset(change):\n",
    "    out_pl.clear_output()\n",
    "    btn_upload = widgets.FileUpload()\n",
    "    lbl_pred.value = f'Please upload a photo..'\n",
    "    \n",
    "btn_run.on_click(on_click_classify)\n",
    "btn_reset.on_click(on_click_reset)"
   ]
  },
  {
   "cell_type": "code",
   "execution_count": 43,
   "metadata": {},
   "outputs": [
    {
     "data": {
      "application/vnd.jupyter.widget-view+json": {
       "model_id": "ea9e4ac658324f358507ee3cc3016a6a",
       "version_major": 2,
       "version_minor": 0
      },
      "text/plain": [
       "VBox(children=(Label(value='Upload a photo of an animal'), FileUpload(value={}, description='Upload'), Button(…"
      ]
     },
     "metadata": {},
     "output_type": "display_data"
    },
    {
     "data": {
      "text/html": [],
      "text/plain": [
       "<IPython.core.display.HTML object>"
      ]
     },
     "metadata": {},
     "output_type": "display_data"
    },
    {
     "data": {
      "text/html": [],
      "text/plain": [
       "<IPython.core.display.HTML object>"
      ]
     },
     "metadata": {},
     "output_type": "display_data"
    },
    {
     "data": {
      "text/html": [],
      "text/plain": [
       "<IPython.core.display.HTML object>"
      ]
     },
     "metadata": {},
     "output_type": "display_data"
    },
    {
     "data": {
      "text/html": [],
      "text/plain": [
       "<IPython.core.display.HTML object>"
      ]
     },
     "metadata": {},
     "output_type": "display_data"
    },
    {
     "data": {
      "text/html": [],
      "text/plain": [
       "<IPython.core.display.HTML object>"
      ]
     },
     "metadata": {},
     "output_type": "display_data"
    },
    {
     "data": {
      "text/html": [],
      "text/plain": [
       "<IPython.core.display.HTML object>"
      ]
     },
     "metadata": {},
     "output_type": "display_data"
    },
    {
     "data": {
      "text/html": [],
      "text/plain": [
       "<IPython.core.display.HTML object>"
      ]
     },
     "metadata": {},
     "output_type": "display_data"
    },
    {
     "data": {
      "text/html": [],
      "text/plain": [
       "<IPython.core.display.HTML object>"
      ]
     },
     "metadata": {},
     "output_type": "display_data"
    }
   ],
   "source": [
    "VBox([widgets.Label('Upload a photo of an animal'),btn_upload,btn_run,btn_reset,out_pl,lbl_pred])"
   ]
  },
  {
   "cell_type": "code",
   "execution_count": null,
   "metadata": {},
   "outputs": [],
   "source": []
  },
  {
   "cell_type": "code",
   "execution_count": null,
   "metadata": {},
   "outputs": [],
   "source": []
  },
  {
   "cell_type": "code",
   "execution_count": null,
   "metadata": {},
   "outputs": [],
   "source": []
  }
 ],
 "metadata": {
  "kernelspec": {
   "display_name": "Python 3",
   "language": "python",
   "name": "python3"
  },
  "language_info": {
   "codemirror_mode": {
    "name": "ipython",
    "version": 3
   },
   "file_extension": ".py",
   "mimetype": "text/x-python",
   "name": "python",
   "nbconvert_exporter": "python",
   "pygments_lexer": "ipython3",
   "version": "3.8.5"
  },
  "widgets": {
   "application/vnd.jupyter.widget-state+json": {
    "state": {
     "006f8acbfc4e44ff99617717a0b22dc0": {
      "model_module": "@jupyter-widgets/controls",
      "model_module_version": "1.5.0",
      "model_name": "ButtonStyleModel",
      "state": {}
     },
     "04ed0739eec34b71b8017749a070b9d6": {
      "model_module": "@jupyter-widgets/controls",
      "model_module_version": "1.5.0",
      "model_name": "FileUploadModel",
      "state": {
       "description_tooltip": null,
       "layout": "IPY_MODEL_8341ec2368b0488c8346627a60ee45b9",
       "style": "IPY_MODEL_6f2953fb9c84420ea6cb0fc1bc4ddd8b"
      }
     },
     "05fe4a28d23e4085ab3b3b9135a4533a": {
      "model_module": "@jupyter-widgets/controls",
      "model_module_version": "1.5.0",
      "model_name": "FileUploadModel",
      "state": {
       "description_tooltip": null,
       "layout": "IPY_MODEL_3dcea5a805a144b28d230d9bdceb05d9",
       "style": "IPY_MODEL_6e21b8a812f1401e8f6bbd1222eee505"
      }
     },
     "06179dfe58624598a5f4cee8d9ac6c4e": {
      "model_module": "@jupyter-widgets/controls",
      "model_module_version": "1.5.0",
      "model_name": "ButtonStyleModel",
      "state": {}
     },
     "0863aa0782d1431196911140041be794": {
      "model_module": "@jupyter-widgets/controls",
      "model_module_version": "1.5.0",
      "model_name": "ButtonStyleModel",
      "state": {}
     },
     "121c9e6cf7544b5f9006e19ac20a3932": {
      "model_module": "@jupyter-widgets/controls",
      "model_module_version": "1.5.0",
      "model_name": "ButtonStyleModel",
      "state": {}
     },
     "15f7fda3c2de49b4b8441c6f98ff3032": {
      "model_module": "@jupyter-widgets/controls",
      "model_module_version": "1.5.0",
      "model_name": "FileUploadModel",
      "state": {
       "description_tooltip": null,
       "layout": "IPY_MODEL_947ead008a964a72844233c2c113ea01",
       "style": "IPY_MODEL_869d6cc6401c460db3bddc62a9b97988"
      }
     },
     "19d9b0ebecfd4cac8dd9f691642583bb": {
      "model_module": "@jupyter-widgets/controls",
      "model_module_version": "1.5.0",
      "model_name": "FileUploadModel",
      "state": {
       "description_tooltip": null,
       "layout": "IPY_MODEL_407fa345d43c432dbbde7fc63986b4df",
       "style": "IPY_MODEL_9d564164254e4dd4b8cee51c297ecaf6"
      }
     },
     "1bb536bcc3d84e008a232df8853301e9": {
      "model_module": "@jupyter-widgets/controls",
      "model_module_version": "1.5.0",
      "model_name": "ButtonStyleModel",
      "state": {}
     },
     "1e0a54ce3488421fa71e54fec0f89cfb": {
      "model_module": "@jupyter-widgets/controls",
      "model_module_version": "1.5.0",
      "model_name": "FileUploadModel",
      "state": {
       "description_tooltip": null,
       "layout": "IPY_MODEL_4975a905be1e460e8be3e3f79db2366b",
       "style": "IPY_MODEL_b579a3091bfc4fab94b64e10f4b539fd"
      }
     },
     "20756bda008a4d3ea6fada36d4604433": {
      "model_module": "@jupyter-widgets/controls",
      "model_module_version": "1.5.0",
      "model_name": "ButtonStyleModel",
      "state": {}
     },
     "20816940c3544a22ad3181ab349cdf4d": {
      "model_module": "@jupyter-widgets/controls",
      "model_module_version": "1.5.0",
      "model_name": "ButtonModel",
      "state": {
       "description": "Click to reset",
       "layout": "IPY_MODEL_43980bef447247e680f3938248679339",
       "style": "IPY_MODEL_06179dfe58624598a5f4cee8d9ac6c4e"
      }
     },
     "23298bc3f5d248638409d03095af8a3c": {
      "model_module": "@jupyter-widgets/controls",
      "model_module_version": "1.5.0",
      "model_name": "FileUploadModel",
      "state": {
       "description_tooltip": null,
       "layout": "IPY_MODEL_deb977bcd0f94b9eb9b106e4270ec6fc",
       "style": "IPY_MODEL_651d2a654b9249d9b09b63f1b69ce46a"
      }
     },
     "28db874e02e547aabd6c6b2aedc97072": {
      "model_module": "@jupyter-widgets/controls",
      "model_module_version": "1.5.0",
      "model_name": "ButtonStyleModel",
      "state": {}
     },
     "2bbf132f78c64269ae5648b0f5c50382": {
      "model_module": "@jupyter-widgets/controls",
      "model_module_version": "1.5.0",
      "model_name": "FileUploadModel",
      "state": {
       "description_tooltip": null,
       "layout": "IPY_MODEL_f45fa5cd52ab469c97c6084c963d04f8",
       "style": "IPY_MODEL_e131d29ed5ad478c9bb4773cccaf2671"
      }
     },
     "2cc26b177edf4ac0b2108162f36d9efc": {
      "model_module": "@jupyter-widgets/controls",
      "model_module_version": "1.5.0",
      "model_name": "LabelModel",
      "state": {
       "layout": "IPY_MODEL_f16bcd310d2e4846b826a9356c1e987a",
       "style": "IPY_MODEL_dc892ba5a36d4d29962407876aaa2e2d",
       "value": "Upload a photo of an animal"
      }
     },
     "31bebf86f5254bd49ea17ad4863bfef1": {
      "model_module": "@jupyter-widgets/controls",
      "model_module_version": "1.5.0",
      "model_name": "FileUploadModel",
      "state": {
       "description_tooltip": null,
       "layout": "IPY_MODEL_ddebb603d01c4de7b01aa6c6bfe6baeb",
       "style": "IPY_MODEL_441d52c07dd2428f862424558a9b86e3"
      }
     },
     "344d971227d74011be12352974a1b5c5": {
      "model_module": "@jupyter-widgets/controls",
      "model_module_version": "1.5.0",
      "model_name": "ButtonStyleModel",
      "state": {}
     },
     "360182e7c6864cdf89bdc9d58df99ab5": {
      "model_module": "@jupyter-widgets/base",
      "model_module_version": "1.2.0",
      "model_name": "LayoutModel",
      "state": {}
     },
     "367ee8612a7846b894c0c3f67272666e": {
      "model_module": "@jupyter-widgets/controls",
      "model_module_version": "1.5.0",
      "model_name": "FileUploadModel",
      "state": {
       "description_tooltip": null,
       "layout": "IPY_MODEL_44782f2d6f7642ca9c152bff23824838",
       "style": "IPY_MODEL_344d971227d74011be12352974a1b5c5"
      }
     },
     "3dcea5a805a144b28d230d9bdceb05d9": {
      "model_module": "@jupyter-widgets/base",
      "model_module_version": "1.2.0",
      "model_name": "LayoutModel",
      "state": {}
     },
     "3ea3b482dc314faca16eb7016e5c1470": {
      "model_module": "@jupyter-widgets/base",
      "model_module_version": "1.2.0",
      "model_name": "LayoutModel",
      "state": {}
     },
     "3ef3a727e0ad43ab99077556892a13f8": {
      "model_module": "@jupyter-widgets/base",
      "model_module_version": "1.2.0",
      "model_name": "LayoutModel",
      "state": {}
     },
     "407fa345d43c432dbbde7fc63986b4df": {
      "model_module": "@jupyter-widgets/base",
      "model_module_version": "1.2.0",
      "model_name": "LayoutModel",
      "state": {}
     },
     "40f833d1b27c47978322bf7e2a970014": {
      "model_module": "@jupyter-widgets/controls",
      "model_module_version": "1.5.0",
      "model_name": "ButtonStyleModel",
      "state": {}
     },
     "426ddcaf98be44c2b405aecb8a5ba99c": {
      "model_module": "@jupyter-widgets/controls",
      "model_module_version": "1.5.0",
      "model_name": "ButtonStyleModel",
      "state": {}
     },
     "4320f17ef2624b0683084ab7790eb6c2": {
      "model_module": "@jupyter-widgets/controls",
      "model_module_version": "1.5.0",
      "model_name": "LabelModel",
      "state": {
       "layout": "IPY_MODEL_c320239efa7748af87e79a5a1d6d11cc",
       "style": "IPY_MODEL_b967856c888a4f1b8ac172144f0739a1",
       "value": "Upload a photo of an animal"
      }
     },
     "43980bef447247e680f3938248679339": {
      "model_module": "@jupyter-widgets/base",
      "model_module_version": "1.2.0",
      "model_name": "LayoutModel",
      "state": {}
     },
     "441d52c07dd2428f862424558a9b86e3": {
      "model_module": "@jupyter-widgets/controls",
      "model_module_version": "1.5.0",
      "model_name": "ButtonStyleModel",
      "state": {}
     },
     "44782f2d6f7642ca9c152bff23824838": {
      "model_module": "@jupyter-widgets/base",
      "model_module_version": "1.2.0",
      "model_name": "LayoutModel",
      "state": {}
     },
     "45d3e875f8f849e480343db38b9285eb": {
      "model_module": "@jupyter-widgets/controls",
      "model_module_version": "1.5.0",
      "model_name": "ButtonStyleModel",
      "state": {}
     },
     "4975a905be1e460e8be3e3f79db2366b": {
      "model_module": "@jupyter-widgets/base",
      "model_module_version": "1.2.0",
      "model_name": "LayoutModel",
      "state": {}
     },
     "4a4f86cc494a402ea43e00c140758c80": {
      "model_module": "@jupyter-widgets/base",
      "model_module_version": "1.2.0",
      "model_name": "LayoutModel",
      "state": {}
     },
     "4a9976a21afe4c06baa9ea9e6b393410": {
      "model_module": "@jupyter-widgets/base",
      "model_module_version": "1.2.0",
      "model_name": "LayoutModel",
      "state": {}
     },
     "4b7f86ed12c24a969825ec77b71f5edd": {
      "model_module": "@jupyter-widgets/controls",
      "model_module_version": "1.5.0",
      "model_name": "FileUploadModel",
      "state": {
       "description_tooltip": null,
       "layout": "IPY_MODEL_dc068a89b46f4672b74a8191bb005a79",
       "style": "IPY_MODEL_1bb536bcc3d84e008a232df8853301e9"
      }
     },
     "4d80e2556ece4c64959a8ad6cfa422f2": {
      "model_module": "@jupyter-widgets/base",
      "model_module_version": "1.2.0",
      "model_name": "LayoutModel",
      "state": {}
     },
     "4ee3689704d846c8b9f7c0f0cdf909c8": {
      "model_module": "@jupyter-widgets/controls",
      "model_module_version": "1.5.0",
      "model_name": "FileUploadModel",
      "state": {
       "description_tooltip": null,
       "layout": "IPY_MODEL_5d6fe67a17e64435bf59967706c67c83",
       "style": "IPY_MODEL_73e8910cf7e64078b716bb383219fb00"
      }
     },
     "4f98544d99704ece9b5dcd16cf79f6a8": {
      "model_module": "@jupyter-widgets/controls",
      "model_module_version": "1.5.0",
      "model_name": "ButtonStyleModel",
      "state": {}
     },
     "50152750bceb4c98a2f04e44abfd8f66": {
      "model_module": "@jupyter-widgets/base",
      "model_module_version": "1.2.0",
      "model_name": "LayoutModel",
      "state": {}
     },
     "526f62e557f44bc3a80b4c18a2e927ac": {
      "model_module": "@jupyter-widgets/controls",
      "model_module_version": "1.5.0",
      "model_name": "ButtonStyleModel",
      "state": {}
     },
     "574ef292a17749f18074e22cb7f050c2": {
      "model_module": "@jupyter-widgets/base",
      "model_module_version": "1.2.0",
      "model_name": "LayoutModel",
      "state": {}
     },
     "57eb56c6803b468e8c3c3dc2e33c3d55": {
      "model_module": "@jupyter-widgets/controls",
      "model_module_version": "1.5.0",
      "model_name": "FileUploadModel",
      "state": {
       "description_tooltip": null,
       "layout": "IPY_MODEL_4a9976a21afe4c06baa9ea9e6b393410",
       "style": "IPY_MODEL_f3705509b6144a7faad79d2abdf2403f"
      }
     },
     "589fba0a9afc496685b982ee200b33c2": {
      "model_module": "@jupyter-widgets/controls",
      "model_module_version": "1.5.0",
      "model_name": "ButtonStyleModel",
      "state": {}
     },
     "58b2dc135e4d42099e9e65f7ec2835fd": {
      "buffers": [
       {
        "data": "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",
        "encoding": "base64",
        "path": [
         "data",
         0
        ]
       }
      ],
      "model_module": "@jupyter-widgets/controls",
      "model_module_version": "1.5.0",
      "model_name": "FileUploadModel",
      "state": {
       "_counter": 2,
       "data": [
        {}
       ],
       "description_tooltip": null,
       "layout": "IPY_MODEL_4a4f86cc494a402ea43e00c140758c80",
       "metadata": [
        {
         "lastModified": 1609101796050,
         "name": "index.jpeg",
         "size": 5166,
         "type": "image/jpeg"
        }
       ],
       "style": "IPY_MODEL_ce3184aa2eaf45c3995134acc990552c"
      }
     },
     "5bd21c40382c4cc19f004a56a40687f4": {
      "model_module": "@jupyter-widgets/base",
      "model_module_version": "1.2.0",
      "model_name": "LayoutModel",
      "state": {}
     },
     "5d2ed8123ea742a5adc71aa9757a5ae6": {
      "model_module": "@jupyter-widgets/controls",
      "model_module_version": "1.5.0",
      "model_name": "FileUploadModel",
      "state": {
       "description_tooltip": null,
       "layout": "IPY_MODEL_71c84abc1a464c90b363782f92ec6269",
       "style": "IPY_MODEL_6beff120a8474b1dae6ab8aa8c89923a"
      }
     },
     "5d6fe67a17e64435bf59967706c67c83": {
      "model_module": "@jupyter-widgets/base",
      "model_module_version": "1.2.0",
      "model_name": "LayoutModel",
      "state": {}
     },
     "5d6ff935109948b1b5215a8f10ad3c0c": {
      "model_module": "@jupyter-widgets/controls",
      "model_module_version": "1.5.0",
      "model_name": "FileUploadModel",
      "state": {
       "description_tooltip": null,
       "layout": "IPY_MODEL_8f0353d1577e4604ba4078a75358d007",
       "style": "IPY_MODEL_dddb4c6563904ae1a4ee58e619d88c7f"
      }
     },
     "5ea8a259a08246c29e50c18535a8356f": {
      "model_module": "@jupyter-widgets/controls",
      "model_module_version": "1.5.0",
      "model_name": "FileUploadModel",
      "state": {
       "description_tooltip": null,
       "layout": "IPY_MODEL_3ef3a727e0ad43ab99077556892a13f8",
       "style": "IPY_MODEL_c16479412287430baa15ac6a5b24b2b7"
      }
     },
     "5ead803ef77540018ab39927b450de37": {
      "model_module": "@jupyter-widgets/controls",
      "model_module_version": "1.5.0",
      "model_name": "FileUploadModel",
      "state": {
       "description_tooltip": null,
       "layout": "IPY_MODEL_c063ef205964400cbf428bf9ef9e17b2",
       "style": "IPY_MODEL_426ddcaf98be44c2b405aecb8a5ba99c"
      }
     },
     "5ecacfdc3b25483090e8d316616f8031": {
      "model_module": "@jupyter-widgets/controls",
      "model_module_version": "1.5.0",
      "model_name": "VBoxModel",
      "state": {
       "children": [
        "IPY_MODEL_2cc26b177edf4ac0b2108162f36d9efc",
        "IPY_MODEL_58b2dc135e4d42099e9e65f7ec2835fd",
        "IPY_MODEL_84ff87db076c477c969440e48f568cc8",
        "IPY_MODEL_eeb77659a53f4ccb8ec35c73c0ba4dea",
        "IPY_MODEL_80ec1fb140714bae81d54e28d17f975c",
        "IPY_MODEL_a1a68f7f36164c899e9fe8b355f92c9d"
       ],
       "layout": "IPY_MODEL_609f75f2ae3b4436a22bd0fb6cbf0015"
      }
     },
     "609f75f2ae3b4436a22bd0fb6cbf0015": {
      "model_module": "@jupyter-widgets/base",
      "model_module_version": "1.2.0",
      "model_name": "LayoutModel",
      "state": {}
     },
     "62d7011110f94705be7d775b6d3bd870": {
      "model_module": "@jupyter-widgets/base",
      "model_module_version": "1.2.0",
      "model_name": "LayoutModel",
      "state": {}
     },
     "651d2a654b9249d9b09b63f1b69ce46a": {
      "model_module": "@jupyter-widgets/controls",
      "model_module_version": "1.5.0",
      "model_name": "ButtonStyleModel",
      "state": {}
     },
     "69563b36709044bea85b859ad6c07a02": {
      "model_module": "@jupyter-widgets/base",
      "model_module_version": "1.2.0",
      "model_name": "LayoutModel",
      "state": {}
     },
     "6b5784a76ae2456fa6ed531282fd0ed5": {
      "model_module": "@jupyter-widgets/controls",
      "model_module_version": "1.5.0",
      "model_name": "ButtonStyleModel",
      "state": {}
     },
     "6beff120a8474b1dae6ab8aa8c89923a": {
      "model_module": "@jupyter-widgets/controls",
      "model_module_version": "1.5.0",
      "model_name": "ButtonStyleModel",
      "state": {}
     },
     "6e21b8a812f1401e8f6bbd1222eee505": {
      "model_module": "@jupyter-widgets/controls",
      "model_module_version": "1.5.0",
      "model_name": "ButtonStyleModel",
      "state": {}
     },
     "6f2953fb9c84420ea6cb0fc1bc4ddd8b": {
      "model_module": "@jupyter-widgets/controls",
      "model_module_version": "1.5.0",
      "model_name": "ButtonStyleModel",
      "state": {}
     },
     "71c84abc1a464c90b363782f92ec6269": {
      "model_module": "@jupyter-widgets/base",
      "model_module_version": "1.2.0",
      "model_name": "LayoutModel",
      "state": {}
     },
     "7209e54ddd7f4557ad5760f4a72a680f": {
      "model_module": "@jupyter-widgets/base",
      "model_module_version": "1.2.0",
      "model_name": "LayoutModel",
      "state": {}
     },
     "7275dc47cca0422b9e85f4d82a0c45d8": {
      "model_module": "@jupyter-widgets/controls",
      "model_module_version": "1.5.0",
      "model_name": "LabelModel",
      "state": {
       "layout": "IPY_MODEL_3ea3b482dc314faca16eb7016e5c1470",
       "style": "IPY_MODEL_7401e259f8e044ef95d04acd259079c2",
       "value": "Upload a photo of an animal"
      }
     },
     "72e4b8a0ba594d839e71ca503d5706ba": {
      "model_module": "@jupyter-widgets/base",
      "model_module_version": "1.2.0",
      "model_name": "LayoutModel",
      "state": {}
     },
     "73146066f41b47b094759db06113ff34": {
      "model_module": "@jupyter-widgets/base",
      "model_module_version": "1.2.0",
      "model_name": "LayoutModel",
      "state": {}
     },
     "73b74656bcb74aee9c18072dff1cfe3a": {
      "model_module": "@jupyter-widgets/controls",
      "model_module_version": "1.5.0",
      "model_name": "FileUploadModel",
      "state": {
       "description_tooltip": null,
       "layout": "IPY_MODEL_5bd21c40382c4cc19f004a56a40687f4",
       "style": "IPY_MODEL_74c1c57540fd4f20a868e79a51eddbf3"
      }
     },
     "73e8910cf7e64078b716bb383219fb00": {
      "model_module": "@jupyter-widgets/controls",
      "model_module_version": "1.5.0",
      "model_name": "ButtonStyleModel",
      "state": {}
     },
     "7401e259f8e044ef95d04acd259079c2": {
      "model_module": "@jupyter-widgets/controls",
      "model_module_version": "1.5.0",
      "model_name": "DescriptionStyleModel",
      "state": {
       "description_width": ""
      }
     },
     "74c1c57540fd4f20a868e79a51eddbf3": {
      "model_module": "@jupyter-widgets/controls",
      "model_module_version": "1.5.0",
      "model_name": "ButtonStyleModel",
      "state": {}
     },
     "76b9b1593b754047a11a218b9fc9d549": {
      "model_module": "@jupyter-widgets/controls",
      "model_module_version": "1.5.0",
      "model_name": "FileUploadModel",
      "state": {
       "description_tooltip": null,
       "layout": "IPY_MODEL_91fe9c3849634e3ebf02448b816e074a",
       "style": "IPY_MODEL_4f98544d99704ece9b5dcd16cf79f6a8"
      }
     },
     "790e6b9c7dce4828b792da7b713b4fc9": {
      "model_module": "@jupyter-widgets/controls",
      "model_module_version": "1.5.0",
      "model_name": "ButtonStyleModel",
      "state": {}
     },
     "7b803b66fb1a4f3e9373f89671311fec": {
      "model_module": "@jupyter-widgets/base",
      "model_module_version": "1.2.0",
      "model_name": "LayoutModel",
      "state": {}
     },
     "7f4d70988fe2454882fd112d871062fc": {
      "model_module": "@jupyter-widgets/controls",
      "model_module_version": "1.5.0",
      "model_name": "VBoxModel",
      "state": {
       "children": [
        "IPY_MODEL_8433cf6624714484985eb18244d04b6e",
        "IPY_MODEL_de54cd820d47468fa32852bd38d49b9f",
        "IPY_MODEL_84ff87db076c477c969440e48f568cc8",
        "IPY_MODEL_eeb77659a53f4ccb8ec35c73c0ba4dea",
        "IPY_MODEL_80ec1fb140714bae81d54e28d17f975c",
        "IPY_MODEL_a1a68f7f36164c899e9fe8b355f92c9d"
       ],
       "layout": "IPY_MODEL_b42c819a055b466dbdff4768495ae93b"
      }
     },
     "80ec1fb140714bae81d54e28d17f975c": {
      "model_module": "@jupyter-widgets/output",
      "model_module_version": "1.0.0",
      "model_name": "OutputModel",
      "state": {
       "layout": "IPY_MODEL_574ef292a17749f18074e22cb7f050c2",
       "outputs": [
        {
         "data": {
          "image/png": "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\n",
          "text/plain": "<PIL.Image.Image image mode=RGB size=128x96 at 0x7F3F62D17460>"
         },
         "metadata": {},
         "output_type": "display_data"
        }
       ]
      }
     },
     "8341ec2368b0488c8346627a60ee45b9": {
      "model_module": "@jupyter-widgets/base",
      "model_module_version": "1.2.0",
      "model_name": "LayoutModel",
      "state": {}
     },
     "8433cf6624714484985eb18244d04b6e": {
      "model_module": "@jupyter-widgets/controls",
      "model_module_version": "1.5.0",
      "model_name": "LabelModel",
      "state": {
       "layout": "IPY_MODEL_4d80e2556ece4c64959a8ad6cfa422f2",
       "style": "IPY_MODEL_d980af75463a40d5afd496477c0e170a",
       "value": "Upload a photo of an animal"
      }
     },
     "8465fb1ec7424087add9a22c47497b18": {
      "model_module": "@jupyter-widgets/controls",
      "model_module_version": "1.5.0",
      "model_name": "FileUploadModel",
      "state": {
       "description_tooltip": null,
       "layout": "IPY_MODEL_a3ab0c3bfeff4f80abe36dc450eafcf0",
       "style": "IPY_MODEL_b35ab50cdc8f4102ae8db39ab31d5771"
      }
     },
     "84ff87db076c477c969440e48f568cc8": {
      "model_module": "@jupyter-widgets/controls",
      "model_module_version": "1.5.0",
      "model_name": "ButtonModel",
      "state": {
       "description": "Is it a Dog ?",
       "layout": "IPY_MODEL_a98af62d29a84a52b5504e30b93c1383",
       "style": "IPY_MODEL_e40d0df9e1864df786e91f995b94e76e"
      }
     },
     "869d6cc6401c460db3bddc62a9b97988": {
      "model_module": "@jupyter-widgets/controls",
      "model_module_version": "1.5.0",
      "model_name": "ButtonStyleModel",
      "state": {}
     },
     "877f131b777f4398a7c0b6176a735459": {
      "model_module": "@jupyter-widgets/controls",
      "model_module_version": "1.5.0",
      "model_name": "FileUploadModel",
      "state": {
       "description_tooltip": null,
       "layout": "IPY_MODEL_9965187168954d38b71f709f7c98ac05",
       "style": "IPY_MODEL_a0263f7c69894462a6a8f1045584afbb"
      }
     },
     "8a60fab382da4abfb37c57d31444a2c3": {
      "model_module": "@jupyter-widgets/base",
      "model_module_version": "1.2.0",
      "model_name": "LayoutModel",
      "state": {}
     },
     "8c979c007958449081226fbc18175201": {
      "model_module": "@jupyter-widgets/controls",
      "model_module_version": "1.5.0",
      "model_name": "FileUploadModel",
      "state": {
       "description_tooltip": null,
       "layout": "IPY_MODEL_954fb8c1ef6940d5b143e2451129645f",
       "style": "IPY_MODEL_20756bda008a4d3ea6fada36d4604433"
      }
     },
     "8f0353d1577e4604ba4078a75358d007": {
      "model_module": "@jupyter-widgets/base",
      "model_module_version": "1.2.0",
      "model_name": "LayoutModel",
      "state": {}
     },
     "91fe9c3849634e3ebf02448b816e074a": {
      "model_module": "@jupyter-widgets/base",
      "model_module_version": "1.2.0",
      "model_name": "LayoutModel",
      "state": {}
     },
     "947ead008a964a72844233c2c113ea01": {
      "model_module": "@jupyter-widgets/base",
      "model_module_version": "1.2.0",
      "model_name": "LayoutModel",
      "state": {}
     },
     "954fb8c1ef6940d5b143e2451129645f": {
      "model_module": "@jupyter-widgets/base",
      "model_module_version": "1.2.0",
      "model_name": "LayoutModel",
      "state": {}
     },
     "958ba6963e7d4c71a2d7db3a6c144ed7": {
      "model_module": "@jupyter-widgets/controls",
      "model_module_version": "1.5.0",
      "model_name": "FileUploadModel",
      "state": {
       "description_tooltip": null,
       "layout": "IPY_MODEL_360182e7c6864cdf89bdc9d58df99ab5",
       "style": "IPY_MODEL_45d3e875f8f849e480343db38b9285eb"
      }
     },
     "972b98f35d7a4c269356e84520e046a4": {
      "model_module": "@jupyter-widgets/controls",
      "model_module_version": "1.5.0",
      "model_name": "ButtonStyleModel",
      "state": {}
     },
     "983f6ccb21cb4e3b9136c2c70f7cb05e": {
      "model_module": "@jupyter-widgets/controls",
      "model_module_version": "1.5.0",
      "model_name": "FileUploadModel",
      "state": {
       "description_tooltip": null,
       "layout": "IPY_MODEL_69563b36709044bea85b859ad6c07a02",
       "style": "IPY_MODEL_28db874e02e547aabd6c6b2aedc97072"
      }
     },
     "9965187168954d38b71f709f7c98ac05": {
      "model_module": "@jupyter-widgets/base",
      "model_module_version": "1.2.0",
      "model_name": "LayoutModel",
      "state": {}
     },
     "9976273d71794e769c706c6a227dca4a": {
      "model_module": "@jupyter-widgets/controls",
      "model_module_version": "1.5.0",
      "model_name": "FileUploadModel",
      "state": {
       "description_tooltip": null,
       "layout": "IPY_MODEL_7209e54ddd7f4557ad5760f4a72a680f",
       "style": "IPY_MODEL_40f833d1b27c47978322bf7e2a970014"
      }
     },
     "9a17e1fb62db4d46bef7642c671b142f": {
      "model_module": "@jupyter-widgets/controls",
      "model_module_version": "1.5.0",
      "model_name": "VBoxModel",
      "state": {
       "children": [
        "IPY_MODEL_7275dc47cca0422b9e85f4d82a0c45d8",
        "IPY_MODEL_f51b68aa44154236bebe4ff2937fa8ee",
        "IPY_MODEL_84ff87db076c477c969440e48f568cc8",
        "IPY_MODEL_eeb77659a53f4ccb8ec35c73c0ba4dea",
        "IPY_MODEL_80ec1fb140714bae81d54e28d17f975c",
        "IPY_MODEL_a1a68f7f36164c899e9fe8b355f92c9d"
       ],
       "layout": "IPY_MODEL_f13fbd8568154893865dd45dabc44f84"
      }
     },
     "9d564164254e4dd4b8cee51c297ecaf6": {
      "model_module": "@jupyter-widgets/controls",
      "model_module_version": "1.5.0",
      "model_name": "ButtonStyleModel",
      "state": {}
     },
     "a0263f7c69894462a6a8f1045584afbb": {
      "model_module": "@jupyter-widgets/controls",
      "model_module_version": "1.5.0",
      "model_name": "ButtonStyleModel",
      "state": {}
     },
     "a16bcf01a0ee4aff96aeab309b5d42e1": {
      "model_module": "@jupyter-widgets/base",
      "model_module_version": "1.2.0",
      "model_name": "LayoutModel",
      "state": {}
     },
     "a1a68f7f36164c899e9fe8b355f92c9d": {
      "model_module": "@jupyter-widgets/controls",
      "model_module_version": "1.5.0",
      "model_name": "LabelModel",
      "state": {
       "layout": "IPY_MODEL_f21a9911374b40c5bd7a3df31325b10e",
       "style": "IPY_MODEL_b36bae2dbfae4d3ba1e17453caf78a56",
       "value": "Prediction: True , Probabality: 0.9993"
      }
     },
     "a3ab0c3bfeff4f80abe36dc450eafcf0": {
      "model_module": "@jupyter-widgets/base",
      "model_module_version": "1.2.0",
      "model_name": "LayoutModel",
      "state": {}
     },
     "a683d22dc0824922a5b713e57c0ad670": {
      "model_module": "@jupyter-widgets/controls",
      "model_module_version": "1.5.0",
      "model_name": "FileUploadModel",
      "state": {
       "description_tooltip": null,
       "layout": "IPY_MODEL_62d7011110f94705be7d775b6d3bd870",
       "style": "IPY_MODEL_0863aa0782d1431196911140041be794"
      }
     },
     "a77f89adb27143c3ab144f5c6b28de46": {
      "model_module": "@jupyter-widgets/controls",
      "model_module_version": "1.5.0",
      "model_name": "FileUploadModel",
      "state": {
       "description_tooltip": null,
       "layout": "IPY_MODEL_7b803b66fb1a4f3e9373f89671311fec",
       "style": "IPY_MODEL_d5e147cedc94482f9100233fdc7ea687"
      }
     },
     "a98af62d29a84a52b5504e30b93c1383": {
      "model_module": "@jupyter-widgets/base",
      "model_module_version": "1.2.0",
      "model_name": "LayoutModel",
      "state": {}
     },
     "ac4df29bf0f349bd80fe23156a74e7b9": {
      "model_module": "@jupyter-widgets/base",
      "model_module_version": "1.2.0",
      "model_name": "LayoutModel",
      "state": {}
     },
     "b12d61a126ab4d11a3d9f5ac612acab7": {
      "model_module": "@jupyter-widgets/base",
      "model_module_version": "1.2.0",
      "model_name": "LayoutModel",
      "state": {}
     },
     "b35ab50cdc8f4102ae8db39ab31d5771": {
      "model_module": "@jupyter-widgets/controls",
      "model_module_version": "1.5.0",
      "model_name": "ButtonStyleModel",
      "state": {}
     },
     "b36bae2dbfae4d3ba1e17453caf78a56": {
      "model_module": "@jupyter-widgets/controls",
      "model_module_version": "1.5.0",
      "model_name": "DescriptionStyleModel",
      "state": {
       "description_width": ""
      }
     },
     "b42c819a055b466dbdff4768495ae93b": {
      "model_module": "@jupyter-widgets/base",
      "model_module_version": "1.2.0",
      "model_name": "LayoutModel",
      "state": {}
     },
     "b579a3091bfc4fab94b64e10f4b539fd": {
      "model_module": "@jupyter-widgets/controls",
      "model_module_version": "1.5.0",
      "model_name": "ButtonStyleModel",
      "state": {}
     },
     "b768a1850f684831ab112c62260f45c3": {
      "model_module": "@jupyter-widgets/controls",
      "model_module_version": "1.5.0",
      "model_name": "FileUploadModel",
      "state": {
       "description_tooltip": null,
       "layout": "IPY_MODEL_73146066f41b47b094759db06113ff34",
       "style": "IPY_MODEL_fb275e0f06314caeaf85a09de8177ee7"
      }
     },
     "b967856c888a4f1b8ac172144f0739a1": {
      "model_module": "@jupyter-widgets/controls",
      "model_module_version": "1.5.0",
      "model_name": "DescriptionStyleModel",
      "state": {
       "description_width": ""
      }
     },
     "bce389d124e648ca9e1ed37732d7d164": {
      "model_module": "@jupyter-widgets/controls",
      "model_module_version": "1.5.0",
      "model_name": "FileUploadModel",
      "state": {
       "description_tooltip": null,
       "layout": "IPY_MODEL_d84f099f414c4429bae1839ab35dc32b",
       "style": "IPY_MODEL_589fba0a9afc496685b982ee200b33c2"
      }
     },
     "c063ef205964400cbf428bf9ef9e17b2": {
      "model_module": "@jupyter-widgets/base",
      "model_module_version": "1.2.0",
      "model_name": "LayoutModel",
      "state": {}
     },
     "c16479412287430baa15ac6a5b24b2b7": {
      "model_module": "@jupyter-widgets/controls",
      "model_module_version": "1.5.0",
      "model_name": "ButtonStyleModel",
      "state": {}
     },
     "c320239efa7748af87e79a5a1d6d11cc": {
      "model_module": "@jupyter-widgets/base",
      "model_module_version": "1.2.0",
      "model_name": "LayoutModel",
      "state": {}
     },
     "ce3184aa2eaf45c3995134acc990552c": {
      "model_module": "@jupyter-widgets/controls",
      "model_module_version": "1.5.0",
      "model_name": "ButtonStyleModel",
      "state": {}
     },
     "d5e147cedc94482f9100233fdc7ea687": {
      "model_module": "@jupyter-widgets/controls",
      "model_module_version": "1.5.0",
      "model_name": "ButtonStyleModel",
      "state": {}
     },
     "d84f099f414c4429bae1839ab35dc32b": {
      "model_module": "@jupyter-widgets/base",
      "model_module_version": "1.2.0",
      "model_name": "LayoutModel",
      "state": {}
     },
     "d980af75463a40d5afd496477c0e170a": {
      "model_module": "@jupyter-widgets/controls",
      "model_module_version": "1.5.0",
      "model_name": "DescriptionStyleModel",
      "state": {
       "description_width": ""
      }
     },
     "db92fb1fcfd347588f5a04bd47f766ba": {
      "model_module": "@jupyter-widgets/controls",
      "model_module_version": "1.5.0",
      "model_name": "ButtonModel",
      "state": {
       "description": "Is it a Dog ?",
       "layout": "IPY_MODEL_50152750bceb4c98a2f04e44abfd8f66",
       "style": "IPY_MODEL_e5e6a4dc1a65475484ddb4da02e737d7"
      }
     },
     "db977273e47441ce8e55b5d98b9bd397": {
      "model_module": "@jupyter-widgets/controls",
      "model_module_version": "1.5.0",
      "model_name": "FileUploadModel",
      "state": {
       "description_tooltip": null,
       "layout": "IPY_MODEL_72e4b8a0ba594d839e71ca503d5706ba",
       "style": "IPY_MODEL_121c9e6cf7544b5f9006e19ac20a3932"
      }
     },
     "dc068a89b46f4672b74a8191bb005a79": {
      "model_module": "@jupyter-widgets/base",
      "model_module_version": "1.2.0",
      "model_name": "LayoutModel",
      "state": {}
     },
     "dc892ba5a36d4d29962407876aaa2e2d": {
      "model_module": "@jupyter-widgets/controls",
      "model_module_version": "1.5.0",
      "model_name": "DescriptionStyleModel",
      "state": {
       "description_width": ""
      }
     },
     "dddb4c6563904ae1a4ee58e619d88c7f": {
      "model_module": "@jupyter-widgets/controls",
      "model_module_version": "1.5.0",
      "model_name": "ButtonStyleModel",
      "state": {}
     },
     "ddebb603d01c4de7b01aa6c6bfe6baeb": {
      "model_module": "@jupyter-widgets/base",
      "model_module_version": "1.2.0",
      "model_name": "LayoutModel",
      "state": {}
     },
     "de54cd820d47468fa32852bd38d49b9f": {
      "buffers": [
       {
        "data": "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",
        "encoding": "base64",
        "path": [
         "data",
         0
        ]
       }
      ],
      "model_module": "@jupyter-widgets/controls",
      "model_module_version": "1.5.0",
      "model_name": "FileUploadModel",
      "state": {
       "_counter": 1,
       "data": [
        {}
       ],
       "description_tooltip": null,
       "layout": "IPY_MODEL_8a60fab382da4abfb37c57d31444a2c3",
       "metadata": [
        {
         "lastModified": 1609142136329,
         "name": "Screenshot_2020-12-28 01_intro html.png",
         "size": 46328,
         "type": "image/png"
        }
       ],
       "style": "IPY_MODEL_006f8acbfc4e44ff99617717a0b22dc0"
      }
     },
     "de73be5be08b46608e3c33e801748aba": {
      "model_module": "@jupyter-widgets/controls",
      "model_module_version": "1.5.0",
      "model_name": "FileUploadModel",
      "state": {
       "description_tooltip": null,
       "layout": "IPY_MODEL_b12d61a126ab4d11a3d9f5ac612acab7",
       "style": "IPY_MODEL_526f62e557f44bc3a80b4c18a2e927ac"
      }
     },
     "deb977bcd0f94b9eb9b106e4270ec6fc": {
      "model_module": "@jupyter-widgets/base",
      "model_module_version": "1.2.0",
      "model_name": "LayoutModel",
      "state": {}
     },
     "e131d29ed5ad478c9bb4773cccaf2671": {
      "model_module": "@jupyter-widgets/controls",
      "model_module_version": "1.5.0",
      "model_name": "ButtonStyleModel",
      "state": {}
     },
     "e239a715fd69499e86ad22bd00809330": {
      "model_module": "@jupyter-widgets/controls",
      "model_module_version": "1.5.0",
      "model_name": "FileUploadModel",
      "state": {
       "description_tooltip": null,
       "layout": "IPY_MODEL_ac4df29bf0f349bd80fe23156a74e7b9",
       "style": "IPY_MODEL_972b98f35d7a4c269356e84520e046a4"
      }
     },
     "e40d0df9e1864df786e91f995b94e76e": {
      "model_module": "@jupyter-widgets/controls",
      "model_module_version": "1.5.0",
      "model_name": "ButtonStyleModel",
      "state": {}
     },
     "e5e6a4dc1a65475484ddb4da02e737d7": {
      "model_module": "@jupyter-widgets/controls",
      "model_module_version": "1.5.0",
      "model_name": "ButtonStyleModel",
      "state": {}
     },
     "eeb77659a53f4ccb8ec35c73c0ba4dea": {
      "model_module": "@jupyter-widgets/controls",
      "model_module_version": "1.5.0",
      "model_name": "ButtonModel",
      "state": {
       "description": "Click to reset",
       "layout": "IPY_MODEL_f38384a8cea84d9f84ea21e84e6aca63",
       "style": "IPY_MODEL_790e6b9c7dce4828b792da7b713b4fc9"
      }
     },
     "f13fbd8568154893865dd45dabc44f84": {
      "model_module": "@jupyter-widgets/base",
      "model_module_version": "1.2.0",
      "model_name": "LayoutModel",
      "state": {}
     },
     "f16bcd310d2e4846b826a9356c1e987a": {
      "model_module": "@jupyter-widgets/base",
      "model_module_version": "1.2.0",
      "model_name": "LayoutModel",
      "state": {}
     },
     "f21a9911374b40c5bd7a3df31325b10e": {
      "model_module": "@jupyter-widgets/base",
      "model_module_version": "1.2.0",
      "model_name": "LayoutModel",
      "state": {}
     },
     "f3705509b6144a7faad79d2abdf2403f": {
      "model_module": "@jupyter-widgets/controls",
      "model_module_version": "1.5.0",
      "model_name": "ButtonStyleModel",
      "state": {}
     },
     "f38384a8cea84d9f84ea21e84e6aca63": {
      "model_module": "@jupyter-widgets/base",
      "model_module_version": "1.2.0",
      "model_name": "LayoutModel",
      "state": {}
     },
     "f45fa5cd52ab469c97c6084c963d04f8": {
      "model_module": "@jupyter-widgets/base",
      "model_module_version": "1.2.0",
      "model_name": "LayoutModel",
      "state": {}
     },
     "f51b68aa44154236bebe4ff2937fa8ee": {
      "buffers": [
       {
        "data": "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",
        "encoding": "base64",
        "path": [
         "data",
         0
        ]
       }
      ],
      "model_module": "@jupyter-widgets/controls",
      "model_module_version": "1.5.0",
      "model_name": "FileUploadModel",
      "state": {
       "_counter": 2,
       "data": [
        {}
       ],
       "description_tooltip": null,
       "layout": "IPY_MODEL_a16bcf01a0ee4aff96aeab309b5d42e1",
       "metadata": [
        {
         "lastModified": 1609101796050,
         "name": "index.jpeg",
         "size": 5166,
         "type": "image/jpeg"
        }
       ],
       "style": "IPY_MODEL_6b5784a76ae2456fa6ed531282fd0ed5"
      }
     },
     "fb275e0f06314caeaf85a09de8177ee7": {
      "model_module": "@jupyter-widgets/controls",
      "model_module_version": "1.5.0",
      "model_name": "ButtonStyleModel",
      "state": {}
     }
    },
    "version_major": 2,
    "version_minor": 0
   }
  }
 },
 "nbformat": 4,
 "nbformat_minor": 4
}
